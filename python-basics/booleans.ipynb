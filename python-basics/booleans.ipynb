{
 "cells": [
  {
   "cell_type": "markdown",
   "metadata": {},
   "source": [
    "# Python basics - booleans\n",
    "- Booleans represent one of two values: True or False."
   ]
  },
  {
   "cell_type": "code",
   "execution_count": null,
   "metadata": {},
   "outputs": [],
   "source": [
    "print(10 > 15)\n",
    "print(10 > 9)"
   ]
  },
  {
   "cell_type": "code",
   "execution_count": null,
   "metadata": {},
   "outputs": [],
   "source": [
    "# Any string is True, except empty strings\n",
    "string1 = \"hello\"\n",
    "string2 = \"\"\n",
    "\n",
    "print(bool(string1))\n",
    "print(bool(string2))"
   ]
  },
  {
   "cell_type": "code",
   "execution_count": null,
   "metadata": {},
   "outputs": [],
   "source": [
    "# Any number is True, except 0\n",
    "number1 = -500\n",
    "number2 = 15.5\n",
    "number3 = 20\n",
    "number4 = 0\n",
    "\n",
    "print(bool(number1))\n",
    "print(bool(number2))\n",
    "print(bool(number3))\n",
    "print(bool(number4))"
   ]
  },
  {
   "cell_type": "code",
   "execution_count": null,
   "metadata": {},
   "outputs": [],
   "source": [
    "# Any list, tuple, set, and dictionary are True, except empty ones.\n",
    "l1 = []\n",
    "l2 = [1, 2] \n",
    "s1 = set()\n",
    "s2 = {1, 2, 5}\n",
    "t1 = ()\n",
    "t2 = ('a', 'b', 'c')\n",
    "d1 = {}\n",
    "d2 = {\"apple\": 1}\n",
    "\n",
    "print(bool(l1))\n",
    "print(bool(l2))\n",
    "print(bool(s1))\n",
    "print(bool(s2))\n",
    "print(bool(t1))\n",
    "print(bool(t2))\n",
    "print(bool(d1))\n",
    "print(bool(d2))"
   ]
  },
  {
   "cell_type": "code",
   "execution_count": null,
   "metadata": {},
   "outputs": [],
   "source": [
    "# .isinstance() method\n",
    "\n",
    "num1 = 5\n",
    "print(isinstance(num1, int))\n",
    "print(isinstance(num1, float))\n",
    "print(isinstance(num1, str))"
   ]
  }
 ],
 "metadata": {
  "kernelspec": {
   "display_name": "Python 3",
   "language": "python",
   "name": "python3"
  },
  "language_info": {
   "codemirror_mode": {
    "name": "ipython",
    "version": 3
   },
   "file_extension": ".py",
   "mimetype": "text/x-python",
   "name": "python",
   "nbconvert_exporter": "python",
   "pygments_lexer": "ipython3",
   "version": "3.12.6"
  }
 },
 "nbformat": 4,
 "nbformat_minor": 2
}
