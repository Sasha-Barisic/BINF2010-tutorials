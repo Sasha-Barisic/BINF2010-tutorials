{
 "cells": [
  {
   "cell_type": "markdown",
   "metadata": {},
   "source": [
    "# Python basics - tuples and lists"
   ]
  },
  {
   "cell_type": "markdown",
   "metadata": {},
   "source": [
    "* tuples: list of elements, are immutable (cannot be modified)\n",
    "* lists: list of elements, can be nested, contain different data types, and mutable (can change)"
   ]
  },
  {
   "cell_type": "markdown",
   "metadata": {
    "vscode": {
     "languageId": "plaintext"
    }
   },
   "source": [
    "## Tuples"
   ]
  },
  {
   "cell_type": "code",
   "execution_count": 1,
   "metadata": {},
   "outputs": [],
   "source": [
    "# Initialize two tuples\n",
    "tup1 = ('physics', 'chemistry', 1997, 2000)\n",
    "tup2 = (1, 2, 3, 4, 5, 6, 7)"
   ]
  },
  {
   "cell_type": "code",
   "execution_count": null,
   "metadata": {},
   "outputs": [],
   "source": [
    "# Accessing elements in tuples\n",
    "\n",
    "# Access the first element\n",
    "print(f\"The first element is: {tup1[0]}\")\n",
    "\n",
    "# Access the last element\n",
    "print(f\"The last element is: {tup1[-1]}\")\n",
    "\n",
    "# Access a range of elements (eg. second element - second last)\n",
    "print(f\"The last element is: {tup2[1:-1]}\")"
   ]
  },
  {
   "cell_type": "markdown",
   "metadata": {},
   "source": [
    "In python, lists and tuples are 0-indexed. This means to access the first element, we use the index value of 0. However, we can also use \"negative indices\" to access this (based on the length of the list):"
   ]
  },
  {
   "cell_type": "code",
   "execution_count": null,
   "metadata": {},
   "outputs": [],
   "source": [
    "# Adding elements to tuples\n",
    "\n",
    "# This won't work\n",
    "tup3 = tup2 + 12"
   ]
  },
  {
   "cell_type": "code",
   "execution_count": null,
   "metadata": {},
   "outputs": [],
   "source": [
    "# Adding elements to tuples\n",
    "\n",
    "# This will work\n",
    "tup3 = tup2 + (12,)\n",
    "print(tup3)"
   ]
  },
  {
   "cell_type": "code",
   "execution_count": null,
   "metadata": {},
   "outputs": [],
   "source": [
    "# Remove entire tuple\n",
    "del tup3\n",
    "print(tup3)"
   ]
  },
  {
   "cell_type": "markdown",
   "metadata": {},
   "source": [
    "**Note:** You cannot remove items in a tuple."
   ]
  },
  {
   "cell_type": "code",
   "execution_count": null,
   "metadata": {},
   "outputs": [],
   "source": [
    "# Update value in tuple\n",
    "\n",
    "# Change the first element in tup1 to 'maths'\n",
    "tup1[0] = 'maths'\n",
    "print(tup1)"
   ]
  },
  {
   "cell_type": "code",
   "execution_count": null,
   "metadata": {},
   "outputs": [],
   "source": [
    "# min, max and len\n",
    "print(f\"The min value is: {min(tup2)}\")\n",
    "print(f\"The max value is: {max(tup2)}\")\n",
    "print(f\"The length of the tuple is: {len(tup2)}\")"
   ]
  },
  {
   "cell_type": "code",
   "execution_count": null,
   "metadata": {},
   "outputs": [],
   "source": [
    "# Loop and print all values\n",
    "for elem in tup2:\n",
    "    print(elem)"
   ]
  },
  {
   "cell_type": "markdown",
   "metadata": {},
   "source": [
    "## Lists"
   ]
  },
  {
   "cell_type": "code",
   "execution_count": 8,
   "metadata": {},
   "outputs": [],
   "source": [
    "# Initialize list\n",
    "l1 = [\"apple\", \"banana\", \"cherry\", 1, 5, 6, 7, True, False]"
   ]
  },
  {
   "cell_type": "code",
   "execution_count": null,
   "metadata": {},
   "outputs": [],
   "source": [
    "# Access items\n",
    "print(f\"The first element in the list is: {l1[0]}\")\n",
    "print(f\"The last element in the list is: {l1[-1]}\")\n",
    "\n",
    "# Second element to second last (inclusive)\n",
    "print(l1[1:-1])"
   ]
  },
  {
   "cell_type": "code",
   "execution_count": null,
   "metadata": {},
   "outputs": [],
   "source": [
    "# Assign new values to the first and 4 element\n",
    "l1[0] = \"mango\"\n",
    "l1[3] = 12\n",
    "\n",
    "print(l1)"
   ]
  },
  {
   "cell_type": "code",
   "execution_count": null,
   "metadata": {},
   "outputs": [],
   "source": [
    "# Add values to list\n",
    "l1.append(\"bread\")\n",
    "print(l1)\n",
    "\n",
    "# Add a entire list to a list as an entry\n",
    "l2 = ['a', 'b', 'c']\n",
    "l1.append(l2)\n",
    "print(l1)\n",
    "\n",
    "# Add the values from another list to an existing list\n",
    "l1.extend(l2)\n",
    "print(l1)"
   ]
  },
  {
   "cell_type": "code",
   "execution_count": null,
   "metadata": {},
   "outputs": [],
   "source": [
    "# Remove 'mango' from list\n",
    "l1.remove('mango')\n",
    "print(l1)\n",
    "\n",
    "# remove() only first occurrence\n",
    "l3 = ['apples', 'bread', 'apples', 'juice']\n",
    "l3.remove('apples')\n",
    "print(l3)\n",
    "\n",
    "# Removing by specified index\n",
    "l1.pop(1)\n",
    "print(l1)\n",
    "\n",
    "# Removing without specifying index\n",
    "l1.pop()\n",
    "print(l1)\n",
    "\n",
    "# Using 'del'- by index and entire list\n",
    "del l1[2]\n",
    "print(l1)\n",
    "\n",
    "del l1\n",
    "print(l1)\n",
    "\n",
    "# Clear the whole list - no content but the list is still there\n",
    "l2 = ['a', 'b']\n",
    "print(l2)\n",
    "l2.clear()\n",
    "print(l2)"
   ]
  },
  {
   "cell_type": "markdown",
   "metadata": {},
   "source": [
    "**Note:** If there are more than one item with the specified value, the remove() method removes the first occurrence."
   ]
  },
  {
   "cell_type": "markdown",
   "metadata": {},
   "source": [
    "**Note:** If you do not specify the index, the pop() method removes the last item."
   ]
  },
  {
   "cell_type": "code",
   "execution_count": null,
   "metadata": {},
   "outputs": [],
   "source": [
    "# Add two lists\n",
    "a1 = [1, 2, 3]\n",
    "a2 = ['a', 'b', 'c']\n",
    "\n",
    "a3 = a1 + a2\n",
    "print(a3)"
   ]
  },
  {
   "cell_type": "code",
   "execution_count": null,
   "metadata": {},
   "outputs": [],
   "source": [
    "# Sort a list\n",
    "thislist = [100, 50, 65, 82, 23]\n",
    "\n",
    "# in-place sorting\n",
    "thislist.sort()\n",
    "print(thislist)\n",
    "\n",
    "# # Needs assigning\n",
    "# sorted(thislist)"
   ]
  },
  {
   "cell_type": "markdown",
   "metadata": {},
   "source": [
    "In general, the 'sorted' function returns a sorted list, therefore you need to assign it to a variable in order to use the sorted list. On the other side, the method '.sort()' is in-place meaning that it will sort and modify the input list on the spot. This behaviour can't be seen precisely in a Jupyter notebook, but if you have a look at the sequence.py script you will see."
   ]
  },
  {
   "cell_type": "code",
   "execution_count": null,
   "metadata": {},
   "outputs": [],
   "source": [
    "# Copy a list\n",
    "original = [1, 2, 3]\n",
    "copied = original.copy()\n",
    "\n",
    "print(original)\n",
    "print(copied)"
   ]
  }
 ],
 "metadata": {
  "kernelspec": {
   "display_name": "Python 3",
   "language": "python",
   "name": "python3"
  },
  "language_info": {
   "codemirror_mode": {
    "name": "ipython",
    "version": 3
   },
   "file_extension": ".py",
   "mimetype": "text/x-python",
   "name": "python",
   "nbconvert_exporter": "python",
   "pygments_lexer": "ipython3",
   "version": "3.12.6"
  }
 },
 "nbformat": 4,
 "nbformat_minor": 2
}
