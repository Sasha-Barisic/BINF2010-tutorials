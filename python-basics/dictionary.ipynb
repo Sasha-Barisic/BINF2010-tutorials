{
 "cells": [
  {
   "cell_type": "markdown",
   "metadata": {},
   "source": [
    "# Python basics - dictionaries"
   ]
  },
  {
   "cell_type": "markdown",
   "metadata": {},
   "source": [
    "- A set of key/value pairs where the keys are unique (hash table)\n",
    "- Dictionary values are pointed to by the keys.\n",
    "- Values can be anything from int, float, and bool to lists, tuples, and other dictionaries."
   ]
  },
  {
   "cell_type": "code",
   "execution_count": 5,
   "metadata": {},
   "outputs": [
    {
     "name": "stdout",
     "output_type": "stream",
     "text": [
      "{'DDX11L1': 43.2, 'WASH7P': 45, 'MIR6859-1': 60.1, 'MIR1302-2HG': 12, 'MIR1302-2': 0.5, 'FAM138A': 23}\n"
     ]
    }
   ],
   "source": [
    "# Gene count dictionary\n",
    "gene_exp_dict = {\"DDX11L1\":43.2,\"WASH7P\":45,\"MIR6859-1\":60.1,\"MIR1302-2HG\":12,\"MIR1302-2\":0.5,\"FAM138A\":23}\n",
    "print(gene_exp_dict)\n",
    "\n",
    "# # With duplicates\n",
    "# gene_exp_dict = {\"DDX11L1\":43.2,\"DDX11L1\":55.2,\"WASH7P\":45,\"MIR6859-1\":60.1,\"MIR1302-2HG\":12,\"MIR1302-2\":0.5,\"FAM138A\":23}\n",
    "# print(gene_exp_dict)"
   ]
  },
  {
   "cell_type": "markdown",
   "metadata": {},
   "source": [
    "Duplicate values will overwrite the existing ones."
   ]
  },
  {
   "cell_type": "code",
   "execution_count": null,
   "metadata": {},
   "outputs": [],
   "source": [
    "# Accessing values by key\n",
    "print(gene_exp_dict[\"DDX11L1\"])\n",
    "\n",
    "# Accessing values by using 'get'\n",
    "x = gene_exp_dict.get(\"DDX11L1\")\n",
    "print(x)\n",
    "\n",
    "# Get the list of keys\n",
    "keys = gene_exp_dict.keys()\n",
    "print(keys, type(keys))\n",
    "\n",
    "keys_list = list(keys)\n",
    "print(keys_list, type(keys_list))\n"
   ]
  },
  {
   "cell_type": "code",
   "execution_count": null,
   "metadata": {},
   "outputs": [],
   "source": [
    "# Changing/updating items\n",
    "cars = {\n",
    "  \"brand\": \"Ford\",\n",
    "  \"model\": \"Mustang\",\n",
    "  \"year\": 1964\n",
    "}\n",
    "\n",
    "print(\"Before updating the year\")\n",
    "print(cars)\n",
    "\n",
    "cars[\"year\"] = 2020\n",
    "\n",
    "print(\"After updating the year\")\n",
    "print(cars)\n",
    "\n",
    "# Using .update()\n",
    "cars.update({\"year\": 2022})\n",
    "print(cars)"
   ]
  },
  {
   "cell_type": "code",
   "execution_count": null,
   "metadata": {},
   "outputs": [],
   "source": [
    "# Adding new items\n",
    "shopping_dict = {\"apples\": 2, \"bread\": 1, \"mango\": 3}\n",
    "print(shopping_dict)\n",
    "\n",
    "shopping_dict[\"juice\"] = 4\n",
    "print(shopping_dict)"
   ]
  },
  {
   "cell_type": "code",
   "execution_count": null,
   "metadata": {},
   "outputs": [],
   "source": [
    "# Removing items with .pop()\n",
    "cars.pop(\"model\")\n",
    "print(cars)\n",
    "\n",
    "# Removing the last item with .popitem()\n",
    "shopping_dict.popitem()\n",
    "print(shopping_dict)"
   ]
  },
  {
   "cell_type": "code",
   "execution_count": null,
   "metadata": {},
   "outputs": [],
   "source": [
    "# Removing items with 'del'\n",
    "marks = {\"chemistry\": 75, \"maths\": 66, \"history\": 89}\n",
    "print(marks)\n",
    "\n",
    "del marks[\"chemistry\"]\n",
    "print(marks)\n",
    "\n",
    "# Remove entire dictionary\n",
    "del marks\n",
    "print(marks)"
   ]
  },
  {
   "cell_type": "code",
   "execution_count": null,
   "metadata": {},
   "outputs": [],
   "source": [
    "# Clear dictionary\n",
    "marks = {\"chemistry\": 75, \"maths\": 66, \"history\": 89}\n",
    "print(marks)\n",
    "\n",
    "marks.clear()\n",
    "print(marks)"
   ]
  }
 ],
 "metadata": {
  "kernelspec": {
   "display_name": "Python 3",
   "language": "python",
   "name": "python3"
  },
  "language_info": {
   "codemirror_mode": {
    "name": "ipython",
    "version": 3
   },
   "file_extension": ".py",
   "mimetype": "text/x-python",
   "name": "python",
   "nbconvert_exporter": "python",
   "pygments_lexer": "ipython3",
   "version": "3.12.6"
  }
 },
 "nbformat": 4,
 "nbformat_minor": 2
}
