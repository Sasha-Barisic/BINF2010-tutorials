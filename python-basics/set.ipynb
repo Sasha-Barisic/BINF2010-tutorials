{
 "cells": [
  {
   "cell_type": "markdown",
   "metadata": {},
   "source": [
    "# Python basics - sets\n",
    "- A set is a collection which is unordered, unchangeable*, and unindexed.\n",
    "- Set items are unchangeable, but you can remove items and add new items."
   ]
  },
  {
   "cell_type": "code",
   "execution_count": null,
   "metadata": {},
   "outputs": [],
   "source": [
    "# Duplicates not allowed\n",
    "set1 = {\"apple\", \"banana\", \"cherry\", \"apple\"}\n",
    "print(set1)\n",
    "\n",
    "# True and 1 are treated as the same entry\n",
    "set2 = {\"apple\", \"banana\", \"cherry\", True, 1, 2}\n",
    "print(set2)\n",
    "\n",
    "set3 = {\"apple\", \"banana\", \"cherry\", 1, True, 2}\n",
    "print(set3)\n",
    "\n",
    "# True and 1 are treated as the same entry\n",
    "set4 = {\"apple\", \"banana\", \"cherry\", False, 0, 2}\n",
    "print(set4)\n",
    "\n",
    "set5 = {\"apple\", \"banana\", \"cherry\", 0, False, 2}\n",
    "print(set5)"
   ]
  },
  {
   "cell_type": "markdown",
   "metadata": {},
   "source": [
    "**Note:** You cannot access items in a set by referring to an index or a key."
   ]
  },
  {
   "cell_type": "code",
   "execution_count": null,
   "metadata": {},
   "outputs": [],
   "source": [
    "# Looping\n",
    "thisset = {\"apple\", \"banana\", \"cherry\"}\n",
    "\n",
    "for x in thisset:\n",
    "  print(x)\n",
    "\n",
    "# Using 'in'\n",
    "print(\"banana\" in thisset)\n",
    "print(\"mango\" in thisset)"
   ]
  },
  {
   "cell_type": "markdown",
   "metadata": {},
   "source": [
    "**Note:** Once a set is created, you cannot change its items, but you can add new items."
   ]
  },
  {
   "cell_type": "code",
   "execution_count": null,
   "metadata": {},
   "outputs": [],
   "source": [
    "# Adding an element\n",
    "set1 = {\"apple\", \"banana\", \"cherry\"}\n",
    "set1.add(\"orange\")\n",
    "print(set1)\n",
    "\n",
    "# Adding a set\n",
    "set2 = {\"pineapple\", \"mango\", \"papaya\"}\n",
    "set1.update(set2)\n",
    "print(set1)\n",
    "\n",
    "# Adding a list\n",
    "l = [\"kiwi\", \"orange\"]\n",
    "set1.update(l)\n",
    "print(set1)"
   ]
  },
  {
   "cell_type": "code",
   "execution_count": null,
   "metadata": {},
   "outputs": [],
   "source": [
    "# Removing items using .remove()\n",
    "fruit = {\"apple\", \"banana\", \"cherry\"}\n",
    "fruit.remove(\"banana\")\n",
    "print(fruit)\n",
    "\n",
    "# Removing items using .discard()\n",
    "fruit.discard('apple')\n",
    "print(fruit)\n",
    "\n",
    "# Removing random items with .pop()\n",
    "fruit = {\"apple\", \"banana\", \"cherry\", \"kiwi\", \"mango\", \"orange\"}\n",
    "fruit.pop()\n",
    "print(fruit)\n",
    "\n",
    "# Clear the set\n",
    "fruit = {\"apple\", \"banana\", \"cherry\", \"kiwi\", \"mango\", \"orange\"}\n",
    "fruit.clear()\n",
    "print(fruit)\n",
    "\n",
    "# Delete the set\n",
    "fruit = {\"apple\", \"banana\", \"cherry\", \"kiwi\", \"mango\", \"orange\"}\n",
    "del fruit\n",
    "print(fruit)\n"
   ]
  },
  {
   "cell_type": "code",
   "execution_count": null,
   "metadata": {},
   "outputs": [],
   "source": [
    "# Joining two sets\n",
    "set1 = {\"a\", \"b\", \"c\"}\n",
    "set2 = {1, 2, 3}\n",
    "\n",
    "set3 = set1.union(set2)\n",
    "print(set3)\n",
    "\n",
    "set4 = set1 | set2\n",
    "print(set4)\n",
    "\n",
    "# Joining multiple sets\n",
    "set1 = {\"a\", \"b\", \"c\"}\n",
    "set2 = {1, 2, 3}\n",
    "set3 = {\"John\", \"Elena\"}\n",
    "set4 = {\"apple\", \"bananas\", \"cherry\"}\n",
    "\n",
    "set5 = set1.union(set2, set3, set4)\n",
    "set6 = set1 | set2 | set3 | set4\n",
    "print(set5)\n",
    "print(set6)\n",
    "\n",
    "# Joining lists and tuples with sets\n",
    "x = {\"a\", \"b\", \"c\"}\n",
    "set_y = (1, 2, 3)\n",
    "list_y = [5, 6, 7]\n",
    "\n",
    "z_set = x.union(set_y)\n",
    "z_list = x.union(list_y)\n",
    "print(z_set)\n",
    "print(z_list)"
   ]
  },
  {
   "cell_type": "markdown",
   "metadata": {},
   "source": [
    "**Note:** The '|' operator only allows you to join sets with sets, and not with other data types like you can with the  union() method."
   ]
  }
 ],
 "metadata": {
  "kernelspec": {
   "display_name": "Python 3",
   "language": "python",
   "name": "python3"
  },
  "language_info": {
   "codemirror_mode": {
    "name": "ipython",
    "version": 3
   },
   "file_extension": ".py",
   "mimetype": "text/x-python",
   "name": "python",
   "nbconvert_exporter": "python",
   "pygments_lexer": "ipython3",
   "version": "3.12.6"
  }
 },
 "nbformat": 4,
 "nbformat_minor": 2
}
