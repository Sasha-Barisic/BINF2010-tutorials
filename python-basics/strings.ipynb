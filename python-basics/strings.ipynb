{
 "cells": [
  {
   "cell_type": "markdown",
   "metadata": {},
   "source": [
    "# Python basics - strings"
   ]
  },
  {
   "cell_type": "markdown",
   "metadata": {},
   "source": [
    "## Initialising a string and printing"
   ]
  },
  {
   "cell_type": "code",
   "execution_count": null,
   "metadata": {},
   "outputs": [],
   "source": [
    "# Assign string to variable\n",
    "name = \"sasha\"\n",
    "\n",
    "# Printing\n",
    "print(\"My name is \" + name)\n",
    "print(f\"My name is {name}\")\n",
    "print(\"My name is {}\".format(name))"
   ]
  },
  {
   "cell_type": "markdown",
   "metadata": {},
   "source": [
    "- The first method uses the \"+\" sign to concatenate your string to another.\n",
    "- The second method uses 'f-strings' or the formatted string literal method, where you need to prefix the string with the letter 'f' and place the curly braces inside the string where you want to use your variable.\n",
    "- The third method uses an in-built string method - .format(). "
   ]
  },
  {
   "cell_type": "markdown",
   "metadata": {},
   "source": [
    "## Built-in string methods"
   ]
  },
  {
   "cell_type": "code",
   "execution_count": null,
   "metadata": {},
   "outputs": [],
   "source": [
    "# str.capitalize() - Converts the first character to upper case\n",
    "name_capitalized = name.capitalize()\n",
    "print(name_capitalized)\n",
    "\n",
    "# str.upper() - Converts string to uppercase\n",
    "name_upper = name.upper()\n",
    "print(name_upper)\n",
    "\n",
    "# str.lower() - Converts string to lowercase\n",
    "name_lower = name_upper.lower()\n",
    "print(name_lower)"
   ]
  },
  {
   "cell_type": "code",
   "execution_count": null,
   "metadata": {},
   "outputs": [],
   "source": [
    "# str.replace() - replaces specified values in a string\n",
    "\n",
    "# Replace every occurrence of 'S' with 'M'\n",
    "new_name = name.replace(\"S\", \"M\")\n",
    "print(new_name)\n",
    "\n",
    "# Replace every occurrence of 's' with 'M'\n",
    "new_name = name.replace(\"s\", \"M\")\n",
    "print(new_name)\n",
    "\n",
    "# Replace only the first occurrence of 's' with 'M'\n",
    "new_name = name.replace(\"s\", \"M\", 1)\n",
    "print(new_name)\n"
   ]
  },
  {
   "cell_type": "markdown",
   "metadata": {},
   "source": [
    "The built-in method '.replace()' takes in three arguments as inputs (two are required, the third is optional):\n",
    "\n",
    "```\n",
    "string.replace(oldvalue, newvalue, count)\n",
    "```"
   ]
  },
  {
   "cell_type": "code",
   "execution_count": null,
   "metadata": {},
   "outputs": [],
   "source": [
    "# str.split() - Splits the string at the specified separator, and returns a list.\n",
    "user = \"user@test.com\"\n",
    "print(user, type(user))\n",
    "\n",
    "user_split = user.split(\"@\")\n",
    "print(user_split, type(user_split))\n",
    "\n",
    "username = user_split[0]\n",
    "print(username, type(username))"
   ]
  },
  {
   "cell_type": "code",
   "execution_count": null,
   "metadata": {},
   "outputs": [],
   "source": [
    "\n",
    "# str.strip() - Returns a trimmed version of the string\n",
    "\n",
    "# String with space at the end\n",
    "day = \"Tuesday \"\n",
    "print(type(day), len(day))\n",
    "\n",
    "day_trimmed = day.strip()\n",
    "print(f\"Today is: {day}.\")\n",
    "print(f\"Today is: {day_trimmed}.\")\n",
    "\n",
    "# String with newline at the end\n",
    "day2 = \"Tuesday\\n\"\n",
    "day2_trimmed = day2.strip()\n",
    "print(f\"Today is: {day2}.\")\n",
    "print(f\"Today is: {day2_trimmed}.\")"
   ]
  },
  {
   "cell_type": "code",
   "execution_count": null,
   "metadata": {},
   "outputs": [],
   "source": [
    "# str.find() - Searches the string for a specified value and returns the position of where it was found, returns -1 is not found\n",
    "\n",
    "# Valid find return\n",
    "valid_lookup = \"day\"\n",
    "day_string = \"Friday\"\n",
    "\n",
    "# F R I D A Y\n",
    "# 0 1 2 3 4 5\n",
    "\n",
    "valid_res = day_string.find(valid_lookup)\n",
    "print(f\"Looking for substring {valid_lookup} in {day_string}....position: {valid_res}\")\n",
    "\n",
    "# Invalid find return\n",
    "invalid_lookup = \"cat\"\n",
    "invalid_res = day_string.find(invalid_lookup)\n",
    "print(f\"Looking for substring {invalid_lookup} in {day_string}....position: {invalid_res}\")"
   ]
  },
  {
   "cell_type": "markdown",
   "metadata": {},
   "source": [
    "## String operations - comparison and length"
   ]
  },
  {
   "cell_type": "code",
   "execution_count": null,
   "metadata": {},
   "outputs": [],
   "source": [
    "# Initialize strings\n",
    "gene = \"TAF1\"\n",
    "greeting = \"hello\"\n",
    "\n",
    "print(f\"{gene} == BRCA2 is: {gene == \"BRCA2\"}\")\n",
    "print(f\"{gene} != BRCA2 is: {gene != \"BRCA2\"}\")\n",
    "print(f\"{greeting} == hello is: {greeting == \"hello\"}\")\n",
    "print(f\"{greeting} != hello is: {greeting != \"hello\"}\")\n",
    "\n",
    "print(f\"The word: {gene} has {len(gene)} characters.\")"
   ]
  }
 ],
 "metadata": {
  "kernelspec": {
   "display_name": "Python 3",
   "language": "python",
   "name": "python3"
  },
  "language_info": {
   "codemirror_mode": {
    "name": "ipython",
    "version": 3
   },
   "file_extension": ".py",
   "mimetype": "text/x-python",
   "name": "python",
   "nbconvert_exporter": "python",
   "pygments_lexer": "ipython3",
   "version": "3.12.6"
  }
 },
 "nbformat": 4,
 "nbformat_minor": 2
}
