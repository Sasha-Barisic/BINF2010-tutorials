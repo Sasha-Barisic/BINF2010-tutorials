{
 "cells": [
  {
   "cell_type": "markdown",
   "metadata": {},
   "source": [
    "# Python basics - integers and floats"
   ]
  },
  {
   "cell_type": "markdown",
   "metadata": {},
   "source": [
    "## Initialising integers and floats"
   ]
  },
  {
   "cell_type": "code",
   "execution_count": null,
   "metadata": {},
   "outputs": [],
   "source": [
    "total_students = 33\n",
    "cost = 85.97\n",
    "\n",
    "print(f\"There are {total_students} students in my class.\")\n",
    "print(f\"I bought a jumper for ${cost}\")"
   ]
  },
  {
   "cell_type": "markdown",
   "metadata": {},
   "source": [
    "## Converting"
   ]
  },
  {
   "cell_type": "code",
   "execution_count": null,
   "metadata": {},
   "outputs": [],
   "source": [
    "# Converting an integer to float\n",
    "val = 7\n",
    "converted_val = float(val)\n",
    "print(f\"The integer: {val} was converted to a float: {converted_val}.\")\n",
    "print(converted_val, type(converted_val))\n",
    "\n",
    "\n",
    "# Converting a float to an integer\n",
    "val2 = 35.0\n",
    "converted_val2 = int(val2)\n",
    "print(f\"The float: {val2} was converted to a integer: {converted_val2}.\")\n",
    "print(converted_val2, type(converted_val2))\n",
    "\n",
    "val3 = 67.99999\n",
    "converted_val3 = int(val3)\n",
    "print(f\"The float: {val3} was converted to a integer: {converted_val3}.\")\n",
    "print(converted_val3, type(converted_val3))"
   ]
  },
  {
   "cell_type": "markdown",
   "metadata": {},
   "source": [
    "The int() function in Python truncates the decimal part of the number and keeps the integer part only."
   ]
  },
  {
   "cell_type": "markdown",
   "metadata": {},
   "source": [
    "## Mathematical, relational and logical operations"
   ]
  },
  {
   "cell_type": "markdown",
   "metadata": {},
   "source": [
    "### Comparisons\n",
    "- Equalities (==)\n",
    "- Inequalities (>,<, >=, <=)"
   ]
  },
  {
   "cell_type": "code",
   "execution_count": null,
   "metadata": {},
   "outputs": [],
   "source": [
    "# Initialize values\n",
    "val1 = 1\n",
    "val2 = 2\n",
    "\n",
    "print(f\"{val1} == {val2} is: {val1 == val2}\")\n",
    "print(f\"{val1} > {val2} is: {val1 > val2}\")\n",
    "print(f\"{val1} < {val2} is: {val1 < val2}\")\n",
    "print(f\"{val1} >= {val2} is: {val1 >= val2}\")\n",
    "print(f\"{val1} <= {val2} is: {val1 <= val2}\")"
   ]
  },
  {
   "cell_type": "markdown",
   "metadata": {},
   "source": [
    "### Arithmetic"
   ]
  },
  {
   "cell_type": "code",
   "execution_count": null,
   "metadata": {},
   "outputs": [],
   "source": [
    "# Integers\n",
    "a = 42\n",
    "b = 7\n",
    "\n",
    "print(type(a), type(b))\n",
    "\n",
    "print(f\"{a} + {b} = {a+b} of {type(a+b)}\")\n",
    "print(f\"{a} - {b} = {a-b} of {type(a-b)}\")\n",
    "print(f\"{a} * {b} = {a*b} of {type(a*b)}\")\n",
    "print(f\"{a} / {b} = {a/b} of {type(a/b)}\")"
   ]
  },
  {
   "cell_type": "markdown",
   "metadata": {},
   "source": [
    "**Note:** The '/' (division) operator always returns a float even though you are dividing two integers."
   ]
  },
  {
   "cell_type": "code",
   "execution_count": null,
   "metadata": {},
   "outputs": [],
   "source": [
    "# Floats\n",
    "c = 42\n",
    "d = 7.0\n",
    "\n",
    "print(type(c), type(d))\n",
    "\n",
    "print(f\"{c} + {d} = {c+d} of {type(c+d)}\")\n",
    "print(f\"{c} - {d} = {c-d} of {type(c-d)}\")\n",
    "print(f\"{c} * {d} = {c*d} of {type(c*d)}\")\n",
    "print(f\"{c} / {d} = {c/d} of {type(c/d)}\")"
   ]
  },
  {
   "cell_type": "code",
   "execution_count": null,
   "metadata": {},
   "outputs": [],
   "source": [
    "x = 100\n",
    "x += 5\n",
    "print(x)\n",
    "\n",
    "x -= 50\n",
    "print(x)"
   ]
  },
  {
   "cell_type": "code",
   "execution_count": null,
   "metadata": {},
   "outputs": [],
   "source": [
    "# Exponents\n",
    "print(2**2)\n",
    "exp = pow(4,b)\n",
    "print(exp)\n",
    "\n",
    "# Remainder\n",
    "print(42 % 4)\n",
    "\n",
    "# Absolute value\n",
    "print(abs(-5))\n",
    "\n",
    "\n",
    "# Rounding\n",
    "r = 4.2567896789\n",
    "print(round(r))\n",
    "print(round(4.2567896789, 3))"
   ]
  }
 ],
 "metadata": {
  "kernelspec": {
   "display_name": "Python 3",
   "language": "python",
   "name": "python3"
  },
  "language_info": {
   "codemirror_mode": {
    "name": "ipython",
    "version": 3
   },
   "file_extension": ".py",
   "mimetype": "text/x-python",
   "name": "python",
   "nbconvert_exporter": "python",
   "pygments_lexer": "ipython3",
   "version": "3.12.6"
  }
 },
 "nbformat": 4,
 "nbformat_minor": 2
}
